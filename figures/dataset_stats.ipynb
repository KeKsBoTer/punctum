{
 "cells": [
  {
   "cell_type": "code",
   "execution_count": 1,
   "metadata": {},
   "outputs": [
    {
     "name": "stderr",
     "output_type": "stream",
     "text": [
      "/home/niedermayr/anaconda3/envs/punctum12/lib/python3.10/site-packages/tqdm/auto.py:22: TqdmWarning: IProgress not found. Please update jupyter and ipywidgets. See https://ipywidgets.readthedocs.io/en/stable/user_install.html\n",
      "  from .autonotebook import tqdm as notebook_tqdm\n"
     ]
    }
   ],
   "source": [
    "import torch\n",
    "from torch.utils.data import DataLoader\n",
    "import sys\n",
    "from plyfile import PlyData\n",
    "import numpy as np\n",
    "from tqdm import tqdm\n",
    "from glob import glob\n",
    "from os import path\n",
    "sys.path.append('../')\n",
    "from pointnet.dataset import OctantDataset, collate_batched_point_clouds, lm2flat_index\n",
    "from pointnet.metrics import camera_color\n",
    "from pointnet.sh import to_spherical,calc_sh"
   ]
  },
  {
   "cell_type": "code",
   "execution_count": 2,
   "metadata": {},
   "outputs": [
    {
     "data": {
      "text/plain": [
       "torch.Size([162, 2])"
      ]
     },
     "execution_count": 2,
     "metadata": {},
     "output_type": "execute_result"
    }
   ],
   "source": [
    "def camera_positions(filename: str) -> torch.Tensor:\n",
    "    plydata = PlyData.read(filename)\n",
    "    vertex_data = plydata[\"vertex\"].data\n",
    "\n",
    "    def unpack_data(data, field_names):\n",
    "        return torch.from_numpy(np.stack([data[key] for key in field_names]).T)\n",
    "\n",
    "    cameras = unpack_data(vertex_data, [\"x\", \"y\", \"z\"])\n",
    "    return to_spherical(cameras)\n",
    "\n",
    "cameras_pos = camera_positions(\"../sphere.ply\")\n",
    "cameras_pos.shape"
   ]
  },
  {
   "cell_type": "code",
   "execution_count": 118,
   "metadata": {},
   "outputs": [],
   "source": [
    "def color_error_for_dataset(ds_path:str):\n",
    "    batch_size = 64\n",
    "\n",
    "    ds = OctantDataset(ds_path,load_cam_colors=True)\n",
    "\n",
    "    data_loader = DataLoader(\n",
    "        ds,\n",
    "        batch_size=batch_size,\n",
    "        shuffle=False,\n",
    "        num_workers=6,\n",
    "        collate_fn=collate_batched_point_clouds,\n",
    "        pin_memory=False,\n",
    "        drop_last=False,\n",
    "        prefetch_factor=10,\n",
    "        pin_memory_device=\"cuda:0\",\n",
    "    )\n",
    "    l_max = 10\n",
    "    y = calc_sh(l_max,cameras_pos).cuda()\n",
    "    error =torch.empty((len(ds),l_max+1,len(cameras_pos)),device=\"cuda:0\")\n",
    "    for i,sample in tqdm(enumerate(data_loader),total=len(data_loader)):\n",
    "        coefs = sample.coefs.cuda()\n",
    "        cam_colors = sample.cam_colors.cuda()\n",
    "        for l in range(l_max+1):\n",
    "            max_index = lm2flat_index(l,l)+1\n",
    "            d_colors = y[:,:max_index]@coefs[:,:max_index]\n",
    "            error[i*batch_size:((i+1) * batch_size),l] = (d_colors - cam_colors).norm(2,2)\n",
    "\n",
    "    return error.cpu()"
   ]
  },
  {
   "cell_type": "code",
   "execution_count": 119,
   "metadata": {},
   "outputs": [
    {
     "name": "stderr",
     "output_type": "stream",
     "text": [
      "/home/niedermayr/anaconda3/envs/punctum12/lib/python3.10/site-packages/torch/utils/data/dataloader.py:616: UserWarning: pin memory device is set and pin_memory flag is not used then device pinned memory won't be usedplease set pin_memory to true, if you need to use the device pin memory\n",
      "  warnings.warn(warn_msg)\n",
      " 70%|██████▉   | 480/690 [00:29<00:12, 16.90it/s]Exception ignored in: <function _MultiProcessingDataLoaderIter.__del__ at 0x7f7e5f1640d0>\n",
      "Traceback (most recent call last):\n",
      "  File \"/home/niedermayr/anaconda3/envs/punctum12/lib/python3.10/site-packages/torch/utils/data/dataloader.py\", line 1481, in __del__\n",
      "    self._shutdown_workers()\n",
      "  File \"/home/niedermayr/anaconda3/envs/punctum12/lib/python3.10/site-packages/torch/utils/data/dataloader.py\", line 1464, in _shutdown_workers\n",
      "    if w.is_alive():\n",
      "  File \"/home/niedermayr/anaconda3/envs/punctum12/lib/python3.10/multiprocessing/process.py\", line 160, in is_alive\n",
      "    assert self._parent_pid == os.getpid(), 'can only test a child process'\n",
      "AssertionError: can only test a child process\n",
      " 70%|███████   | 486/690 [00:29<00:12, 16.64it/s]Exception ignored in: <function _MultiProcessingDataLoaderIter.__del__ at 0x7f7e5f1640d0>\n",
      "Traceback (most recent call last):\n",
      "  File \"/home/niedermayr/anaconda3/envs/punctum12/lib/python3.10/site-packages/torch/utils/data/dataloader.py\", line 1481, in __del__\n",
      "    self._shutdown_workers()\n",
      "  File \"/home/niedermayr/anaconda3/envs/punctum12/lib/python3.10/site-packages/torch/utils/data/dataloader.py\", line 1464, in _shutdown_workers\n",
      "    if w.is_alive():\n",
      "  File \"/home/niedermayr/anaconda3/envs/punctum12/lib/python3.10/multiprocessing/process.py\", line 160, in is_alive\n",
      "    assert self._parent_pid == os.getpid(), 'can only test a child process'\n",
      "AssertionError: can only test a child process\n",
      "Exception ignored in: <function _MultiProcessingDataLoaderIter.__del__ at 0x7f7e5f1640d0>\n",
      "Traceback (most recent call last):\n",
      "  File \"/home/niedermayr/anaconda3/envs/punctum12/lib/python3.10/site-packages/torch/utils/data/dataloader.py\", line 1481, in __del__\n",
      "    self._shutdown_workers()\n",
      "  File \"/home/niedermayr/anaconda3/envs/punctum12/lib/python3.10/site-packages/torch/utils/data/dataloader.py\", line 1464, in _shutdown_workers\n",
      "    if w.is_alive():\n",
      "  File \"/home/niedermayr/anaconda3/envs/punctum12/lib/python3.10/multiprocessing/process.py\", line 160, in is_alive\n",
      "    assert self._parent_pid == os.getpid(), 'can only test a child process'\n",
      "AssertionError: can only test a child process\n",
      " 72%|███████▏  | 498/690 [00:30<00:11, 16.83it/s]Exception ignored in: <function _MultiProcessingDataLoaderIter.__del__ at 0x7f7e5f1640d0>\n",
      "Traceback (most recent call last):\n",
      "  File \"/home/niedermayr/anaconda3/envs/punctum12/lib/python3.10/site-packages/torch/utils/data/dataloader.py\", line 1481, in __del__\n",
      "    self._shutdown_workers()\n",
      "  File \"/home/niedermayr/anaconda3/envs/punctum12/lib/python3.10/site-packages/torch/utils/data/dataloader.py\", line 1464, in _shutdown_workers\n",
      "    if w.is_alive():\n",
      "  File \"/home/niedermayr/anaconda3/envs/punctum12/lib/python3.10/multiprocessing/process.py\", line 160, in is_alive\n",
      "    assert self._parent_pid == os.getpid(), 'can only test a child process'\n",
      "AssertionError: can only test a child process\n",
      "Exception ignored in: <function _MultiProcessingDataLoaderIter.__del__ at 0x7f7e5f1640d0>\n",
      "Traceback (most recent call last):\n",
      "  File \"/home/niedermayr/anaconda3/envs/punctum12/lib/python3.10/site-packages/torch/utils/data/dataloader.py\", line 1481, in __del__\n",
      "    self._shutdown_workers()\n",
      "  File \"/home/niedermayr/anaconda3/envs/punctum12/lib/python3.10/site-packages/torch/utils/data/dataloader.py\", line 1464, in _shutdown_workers\n",
      "    if w.is_alive():\n",
      "  File \"/home/niedermayr/anaconda3/envs/punctum12/lib/python3.10/multiprocessing/process.py\", line 160, in is_alive\n",
      "    assert self._parent_pid == os.getpid(), 'can only test a child process'\n",
      "AssertionError: can only test a child process\n",
      " 76%|███████▌  | 522/690 [00:31<00:09, 17.45it/s]Exception ignored in: <function _MultiProcessingDataLoaderIter.__del__ at 0x7f7e5f1640d0>\n",
      "Traceback (most recent call last):\n",
      "  File \"/home/niedermayr/anaconda3/envs/punctum12/lib/python3.10/site-packages/torch/utils/data/dataloader.py\", line 1481, in __del__\n",
      "    self._shutdown_workers()\n",
      "  File \"/home/niedermayr/anaconda3/envs/punctum12/lib/python3.10/site-packages/torch/utils/data/dataloader.py\", line 1464, in _shutdown_workers\n",
      "    if w.is_alive():\n",
      "  File \"/home/niedermayr/anaconda3/envs/punctum12/lib/python3.10/multiprocessing/process.py\", line 160, in is_alive\n",
      "    assert self._parent_pid == os.getpid(), 'can only test a child process'\n",
      "AssertionError: can only test a child process\n",
      "100%|██████████| 690/690 [00:41<00:00, 16.71it/s]\n",
      " 27%|██▋       | 440/1645 [00:24<01:21, 14.71it/s]Exception ignored in: <function _MultiProcessingDataLoaderIter.__del__ at 0x7f7e5f1640d0>\n",
      "Traceback (most recent call last):\n",
      "  File \"/home/niedermayr/anaconda3/envs/punctum12/lib/python3.10/site-packages/torch/utils/data/dataloader.py\", line 1481, in __del__\n",
      "    self._shutdown_workers()\n",
      "  File \"/home/niedermayr/anaconda3/envs/punctum12/lib/python3.10/site-packages/torch/utils/data/dataloader.py\", line 1464, in _shutdown_workers\n",
      "    if w.is_alive():\n",
      "  File \"/home/niedermayr/anaconda3/envs/punctum12/lib/python3.10/multiprocessing/process.py\", line 160, in is_alive\n",
      "    assert self._parent_pid == os.getpid(), 'can only test a child process'\n",
      "AssertionError: can only test a child process\n",
      " 28%|██▊       | 460/1645 [00:25<01:09, 17.14it/s]Exception ignored in: <function _MultiProcessingDataLoaderIter.__del__ at 0x7f7e5f1640d0>\n",
      "Traceback (most recent call last):\n",
      "  File \"/home/niedermayr/anaconda3/envs/punctum12/lib/python3.10/site-packages/torch/utils/data/dataloader.py\", line 1481, in __del__\n",
      "    self._shutdown_workers()\n",
      "  File \"/home/niedermayr/anaconda3/envs/punctum12/lib/python3.10/site-packages/torch/utils/data/dataloader.py\", line 1464, in _shutdown_workers\n",
      "    if w.is_alive():\n",
      "  File \"/home/niedermayr/anaconda3/envs/punctum12/lib/python3.10/multiprocessing/process.py\", line 160, in is_alive\n",
      "    assert self._parent_pid == os.getpid(), 'can only test a child process'\n",
      "AssertionError: can only test a child process\n",
      " 28%|██▊       | 464/1645 [00:25<01:05, 18.09it/s]Exception ignored in: <function _MultiProcessingDataLoaderIter.__del__ at 0x7f7e5f1640d0>\n",
      "Traceback (most recent call last):\n",
      "  File \"/home/niedermayr/anaconda3/envs/punctum12/lib/python3.10/site-packages/torch/utils/data/dataloader.py\", line 1481, in __del__\n",
      "    self._shutdown_workers()\n",
      "  File \"/home/niedermayr/anaconda3/envs/punctum12/lib/python3.10/site-packages/torch/utils/data/dataloader.py\", line 1464, in _shutdown_workers\n",
      "    if w.is_alive():\n",
      "  File \"/home/niedermayr/anaconda3/envs/punctum12/lib/python3.10/multiprocessing/process.py\", line 160, in is_alive\n",
      "    assert self._parent_pid == os.getpid(), 'can only test a child process'\n",
      "AssertionError: can only test a child process\n",
      " 28%|██▊       | 466/1645 [00:25<01:21, 14.50it/s]Exception ignored in: <function _MultiProcessingDataLoaderIter.__del__ at 0x7f7e5f1640d0>\n",
      "Traceback (most recent call last):\n",
      "  File \"/home/niedermayr/anaconda3/envs/punctum12/lib/python3.10/site-packages/torch/utils/data/dataloader.py\", line 1481, in __del__\n",
      "    self._shutdown_workers()\n",
      "  File \"/home/niedermayr/anaconda3/envs/punctum12/lib/python3.10/site-packages/torch/utils/data/dataloader.py\", line 1464, in _shutdown_workers\n",
      "    if w.is_alive():\n",
      "  File \"/home/niedermayr/anaconda3/envs/punctum12/lib/python3.10/multiprocessing/process.py\", line 160, in is_alive\n",
      "    assert self._parent_pid == os.getpid(), 'can only test a child process'\n",
      "AssertionError: can only test a child process\n",
      "Exception ignored in: <function _MultiProcessingDataLoaderIter.__del__ at 0x7f7e5f1640d0>\n",
      "Traceback (most recent call last):\n",
      "  File \"/home/niedermayr/anaconda3/envs/punctum12/lib/python3.10/site-packages/torch/utils/data/dataloader.py\", line 1481, in __del__\n",
      "    self._shutdown_workers()\n",
      "  File \"/home/niedermayr/anaconda3/envs/punctum12/lib/python3.10/site-packages/torch/utils/data/dataloader.py\", line 1464, in _shutdown_workers\n",
      "    if w.is_alive():\n",
      "  File \"/home/niedermayr/anaconda3/envs/punctum12/lib/python3.10/multiprocessing/process.py\", line 160, in is_alive\n",
      "    assert self._parent_pid == os.getpid(), 'can only test a child process'\n",
      "AssertionError: can only test a child process\n",
      " 29%|██▊       | 470/1645 [00:26<01:43, 11.40it/s]Exception ignored in: <function _MultiProcessingDataLoaderIter.__del__ at 0x7f7e5f1640d0>\n",
      "Traceback (most recent call last):\n",
      "  File \"/home/niedermayr/anaconda3/envs/punctum12/lib/python3.10/site-packages/torch/utils/data/dataloader.py\", line 1481, in __del__\n",
      "    self._shutdown_workers()\n",
      "  File \"/home/niedermayr/anaconda3/envs/punctum12/lib/python3.10/site-packages/torch/utils/data/dataloader.py\", line 1464, in _shutdown_workers\n",
      "    if w.is_alive():\n",
      "  File \"/home/niedermayr/anaconda3/envs/punctum12/lib/python3.10/multiprocessing/process.py\", line 160, in is_alive\n",
      "    assert self._parent_pid == os.getpid(), 'can only test a child process'\n",
      "AssertionError: can only test a child process\n",
      "100%|██████████| 1645/1645 [01:29<00:00, 18.36it/s]\n",
      "100%|██████████| 384/384 [00:22<00:00, 16.70it/s]\n",
      "100%|██████████| 275/275 [00:16<00:00, 17.18it/s]\n"
     ]
    }
   ],
   "source": [
    "dataset_paths = glob(\"../datasets/*/octants_8192max_sh\")\n",
    "ds_stats = {ds:color_error_for_dataset(ds) for ds in dataset_paths}"
   ]
  },
  {
   "cell_type": "code",
   "execution_count": 121,
   "metadata": {},
   "outputs": [
    {
     "ename": "KeyboardInterrupt",
     "evalue": "",
     "output_type": "error",
     "traceback": [
      "\u001b[0;31m---------------------------------------------------------------------------\u001b[0m",
      "\u001b[0;31mKeyboardInterrupt\u001b[0m                         Traceback (most recent call last)",
      "\u001b[1;32m/home/niedermayr/punctum/figures/dataset_stats.ipynb Cell 5\u001b[0m in \u001b[0;36m<cell line: 2>\u001b[0;34m()\u001b[0m\n\u001b[1;32m      <a href='vscode-notebook-cell://ssh-remote%2Btuini15-vc33.vc.in.tum.de/home/niedermayr/punctum/figures/dataset_stats.ipynb#X20sdnNjb2RlLXJlbW90ZQ%3D%3D?line=0'>1</a>\u001b[0m \u001b[39mimport\u001b[39;00m \u001b[39mjson\u001b[39;00m\n\u001b[1;32m      <a href='vscode-notebook-cell://ssh-remote%2Btuini15-vc33.vc.in.tum.de/home/niedermayr/punctum/figures/dataset_stats.ipynb#X20sdnNjb2RlLXJlbW90ZQ%3D%3D?line=1'>2</a>\u001b[0m \u001b[39mwith\u001b[39;00m \u001b[39mopen\u001b[39m(\u001b[39m\"\u001b[39m\u001b[39mds_error.json\u001b[39m\u001b[39m\"\u001b[39m,\u001b[39m\"\u001b[39m\u001b[39mw\u001b[39m\u001b[39m\"\u001b[39m) \u001b[39mas\u001b[39;00m f:\n\u001b[0;32m----> <a href='vscode-notebook-cell://ssh-remote%2Btuini15-vc33.vc.in.tum.de/home/niedermayr/punctum/figures/dataset_stats.ipynb#X20sdnNjb2RlLXJlbW90ZQ%3D%3D?line=2'>3</a>\u001b[0m     json\u001b[39m.\u001b[39;49mdump({name:values\u001b[39m.\u001b[39;49mtolist() \u001b[39mfor\u001b[39;49;00m name,values \u001b[39min\u001b[39;49;00m ds_stats\u001b[39m.\u001b[39;49mitems()},f)\n",
      "File \u001b[0;32m~/anaconda3/envs/punctum12/lib/python3.10/json/__init__.py:179\u001b[0m, in \u001b[0;36mdump\u001b[0;34m(obj, fp, skipkeys, ensure_ascii, check_circular, allow_nan, cls, indent, separators, default, sort_keys, **kw)\u001b[0m\n\u001b[1;32m    173\u001b[0m     iterable \u001b[39m=\u001b[39m \u001b[39mcls\u001b[39m(skipkeys\u001b[39m=\u001b[39mskipkeys, ensure_ascii\u001b[39m=\u001b[39mensure_ascii,\n\u001b[1;32m    174\u001b[0m         check_circular\u001b[39m=\u001b[39mcheck_circular, allow_nan\u001b[39m=\u001b[39mallow_nan, indent\u001b[39m=\u001b[39mindent,\n\u001b[1;32m    175\u001b[0m         separators\u001b[39m=\u001b[39mseparators,\n\u001b[1;32m    176\u001b[0m         default\u001b[39m=\u001b[39mdefault, sort_keys\u001b[39m=\u001b[39msort_keys, \u001b[39m*\u001b[39m\u001b[39m*\u001b[39mkw)\u001b[39m.\u001b[39miterencode(obj)\n\u001b[1;32m    177\u001b[0m \u001b[39m# could accelerate with writelines in some versions of Python, at\u001b[39;00m\n\u001b[1;32m    178\u001b[0m \u001b[39m# a debuggability cost\u001b[39;00m\n\u001b[0;32m--> 179\u001b[0m \u001b[39mfor\u001b[39;00m chunk \u001b[39min\u001b[39;00m iterable:\n\u001b[1;32m    180\u001b[0m     fp\u001b[39m.\u001b[39mwrite(chunk)\n",
      "File \u001b[0;32m~/anaconda3/envs/punctum12/lib/python3.10/json/encoder.py:431\u001b[0m, in \u001b[0;36m_make_iterencode.<locals>._iterencode\u001b[0;34m(o, _current_indent_level)\u001b[0m\n\u001b[1;32m    429\u001b[0m     \u001b[39myield from\u001b[39;00m _iterencode_list(o, _current_indent_level)\n\u001b[1;32m    430\u001b[0m \u001b[39melif\u001b[39;00m \u001b[39misinstance\u001b[39m(o, \u001b[39mdict\u001b[39m):\n\u001b[0;32m--> 431\u001b[0m     \u001b[39myield from\u001b[39;00m _iterencode_dict(o, _current_indent_level)\n\u001b[1;32m    432\u001b[0m \u001b[39melse\u001b[39;00m:\n\u001b[1;32m    433\u001b[0m     \u001b[39mif\u001b[39;00m markers \u001b[39mis\u001b[39;00m \u001b[39mnot\u001b[39;00m \u001b[39mNone\u001b[39;00m:\n",
      "File \u001b[0;32m~/anaconda3/envs/punctum12/lib/python3.10/json/encoder.py:405\u001b[0m, in \u001b[0;36m_make_iterencode.<locals>._iterencode_dict\u001b[0;34m(dct, _current_indent_level)\u001b[0m\n\u001b[1;32m    403\u001b[0m         \u001b[39melse\u001b[39;00m:\n\u001b[1;32m    404\u001b[0m             chunks \u001b[39m=\u001b[39m _iterencode(value, _current_indent_level)\n\u001b[0;32m--> 405\u001b[0m         \u001b[39myield from\u001b[39;00m chunks\n\u001b[1;32m    406\u001b[0m \u001b[39mif\u001b[39;00m newline_indent \u001b[39mis\u001b[39;00m \u001b[39mnot\u001b[39;00m \u001b[39mNone\u001b[39;00m:\n\u001b[1;32m    407\u001b[0m     _current_indent_level \u001b[39m-\u001b[39m\u001b[39m=\u001b[39m \u001b[39m1\u001b[39m\n",
      "File \u001b[0;32m~/anaconda3/envs/punctum12/lib/python3.10/json/encoder.py:325\u001b[0m, in \u001b[0;36m_make_iterencode.<locals>._iterencode_list\u001b[0;34m(lst, _current_indent_level)\u001b[0m\n\u001b[1;32m    323\u001b[0m         \u001b[39melse\u001b[39;00m:\n\u001b[1;32m    324\u001b[0m             chunks \u001b[39m=\u001b[39m _iterencode(value, _current_indent_level)\n\u001b[0;32m--> 325\u001b[0m         \u001b[39myield from\u001b[39;00m chunks\n\u001b[1;32m    326\u001b[0m \u001b[39mif\u001b[39;00m newline_indent \u001b[39mis\u001b[39;00m \u001b[39mnot\u001b[39;00m \u001b[39mNone\u001b[39;00m:\n\u001b[1;32m    327\u001b[0m     _current_indent_level \u001b[39m-\u001b[39m\u001b[39m=\u001b[39m \u001b[39m1\u001b[39m\n",
      "File \u001b[0;32m~/anaconda3/envs/punctum12/lib/python3.10/json/encoder.py:325\u001b[0m, in \u001b[0;36m_make_iterencode.<locals>._iterencode_list\u001b[0;34m(lst, _current_indent_level)\u001b[0m\n\u001b[1;32m    323\u001b[0m         \u001b[39melse\u001b[39;00m:\n\u001b[1;32m    324\u001b[0m             chunks \u001b[39m=\u001b[39m _iterencode(value, _current_indent_level)\n\u001b[0;32m--> 325\u001b[0m         \u001b[39myield from\u001b[39;00m chunks\n\u001b[1;32m    326\u001b[0m \u001b[39mif\u001b[39;00m newline_indent \u001b[39mis\u001b[39;00m \u001b[39mnot\u001b[39;00m \u001b[39mNone\u001b[39;00m:\n\u001b[1;32m    327\u001b[0m     _current_indent_level \u001b[39m-\u001b[39m\u001b[39m=\u001b[39m \u001b[39m1\u001b[39m\n",
      "File \u001b[0;32m~/anaconda3/envs/punctum12/lib/python3.10/json/encoder.py:316\u001b[0m, in \u001b[0;36m_make_iterencode.<locals>._iterencode_list\u001b[0;34m(lst, _current_indent_level)\u001b[0m\n\u001b[1;32m    313\u001b[0m     \u001b[39myield\u001b[39;00m buf \u001b[39m+\u001b[39m _intstr(value)\n\u001b[1;32m    314\u001b[0m \u001b[39melif\u001b[39;00m \u001b[39misinstance\u001b[39m(value, \u001b[39mfloat\u001b[39m):\n\u001b[1;32m    315\u001b[0m     \u001b[39m# see comment above for int\u001b[39;00m\n\u001b[0;32m--> 316\u001b[0m     \u001b[39myield\u001b[39;00m buf \u001b[39m+\u001b[39m _floatstr(value)\n\u001b[1;32m    317\u001b[0m \u001b[39melse\u001b[39;00m:\n\u001b[1;32m    318\u001b[0m     \u001b[39myield\u001b[39;00m buf\n",
      "File \u001b[0;32m~/anaconda3/envs/punctum12/lib/python3.10/json/encoder.py:236\u001b[0m, in \u001b[0;36mJSONEncoder.iterencode.<locals>.floatstr\u001b[0;34m(o, allow_nan, _repr, _inf, _neginf)\u001b[0m\n\u001b[1;32m    234\u001b[0m     text \u001b[39m=\u001b[39m \u001b[39m'\u001b[39m\u001b[39m-Infinity\u001b[39m\u001b[39m'\u001b[39m\n\u001b[1;32m    235\u001b[0m \u001b[39melse\u001b[39;00m:\n\u001b[0;32m--> 236\u001b[0m     \u001b[39mreturn\u001b[39;00m _repr(o)\n\u001b[1;32m    238\u001b[0m \u001b[39mif\u001b[39;00m \u001b[39mnot\u001b[39;00m allow_nan:\n\u001b[1;32m    239\u001b[0m     \u001b[39mraise\u001b[39;00m \u001b[39mValueError\u001b[39;00m(\n\u001b[1;32m    240\u001b[0m         \u001b[39m\"\u001b[39m\u001b[39mOut of range float values are not JSON compliant: \u001b[39m\u001b[39m\"\u001b[39m \u001b[39m+\u001b[39m\n\u001b[1;32m    241\u001b[0m         \u001b[39mrepr\u001b[39m(o))\n",
      "\u001b[0;31mKeyboardInterrupt\u001b[0m: "
     ]
    }
   ],
   "source": [
    "import json\n",
    "with open(\"ds_error.json\",\"w\") as f:\n",
    "    json.dump({name:values.tolist() for name,values in ds_stats.items()},f)"
   ]
  },
  {
   "cell_type": "code",
   "execution_count": 129,
   "metadata": {},
   "outputs": [
    {
     "data": {
      "text/plain": [
       "torch.Size([11])"
      ]
     },
     "execution_count": 129,
     "metadata": {},
     "output_type": "execute_result"
    }
   ],
   "source": [
    "ds_stats['../datasets/kaiserburg/octants_8192max_sh'].mean([0,2]).shape"
   ]
  },
  {
   "cell_type": "code",
   "execution_count": 161,
   "metadata": {},
   "outputs": [
    {
     "data": {
      "image/png": "[encoded data removed]",
      "text/plain": [
       "<Figure size 432x288 with 1 Axes>"
      ]
     },
     "metadata": {},
     "output_type": "display_data"
    }
   ],
   "source": [
    "from matplotlib import pyplot as plt\n",
    "import seaborn as sns\n",
    "sns.set()\n",
    "for name,values in ds_stats.items():\n",
    "    per_l =  values.permute(1,0,2).flatten(1)\n",
    "    worst = per_l.topk(per_l.shape[1]//10,1).values\n",
    "    mean =worst.mean(1)\n",
    "    var = worst.var(1)\n",
    "    plt.errorbar(np.arange(10+1),mean,yerr=var,label=name.split(\"/\")[-2].replace(\"_\",\" \"))\n",
    "\n",
    "\n",
    "#plt.hlines([5/255],[0],[10],linestyles=\"dotted\")\n",
    "plt.xlabel(\"$l_{max}$\")\n",
    "plt.ylabel(\"mean absolute error\")\n",
    "plt.legend()\n",
    "plt.tight_layout()\n",
    "plt.savefig(\"l_max_error.pdf\")"
   ]
  }
 ],
 "metadata": {
  "kernelspec": {
   "display_name": "Python 3.10.4 ('punctum12')",
   "language": "python",
   "name": "python3"
  },
  "language_info": {
   "codemirror_mode": {
    "name": "ipython",
    "version": 3
   },
   "file_extension": ".py",
   "mimetype": "text/x-python",
   "name": "python",
   "nbconvert_exporter": "python",
   "pygments_lexer": "ipython3",
   "version": "3.10.4"
  },
  "orig_nbformat": 4,
  "vscode": {
   "interpreter": {
    "hash": "29427a780687bcd44351db89d4b44b47405293225f90a7e6ae4fa5553ae29773"
   }
  }
 },
 "nbformat": 4,
 "nbformat_minor": 2
}

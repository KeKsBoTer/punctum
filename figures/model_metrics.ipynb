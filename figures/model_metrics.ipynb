{
 "cells": [
  {
   "cell_type": "code",
   "execution_count": 1,
   "metadata": {},
   "outputs": [
    {
     "name": "stderr",
     "output_type": "stream",
     "text": [
      "/home/niedermayr/anaconda3/envs/punctum12/lib/python3.10/site-packages/tqdm/auto.py:22: TqdmWarning: IProgress not found. Please update jupyter and ipywidgets. See https://ipywidgets.readthedocs.io/en/stable/user_install.html\n",
      "  from .autonotebook import tqdm as notebook_tqdm\n"
     ]
    }
   ],
   "source": [
    "import torch\n",
    "import csv\n",
    "from glob import glob"
   ]
  },
  {
   "cell_type": "code",
   "execution_count": 14,
   "metadata": {},
   "outputs": [],
   "source": [
    "stats = {}\n",
    "for e_file in glob(\"../datasets/*/evaluation.csv\"):\n",
    "    with open(e_file,\"r\") as f:\n",
    "        lines = [l for l in csv.reader(f)]\n",
    "        dataset = lines[1][0]\n",
    "        steps = [float(col.split(\" \")[1]) for col in lines[0][2:]]\n",
    "        values = [float(col) for col in lines[1][2:]]\n",
    "        stats[dataset] = (steps,values)"
   ]
  },
  {
   "cell_type": "code",
   "execution_count": 24,
   "metadata": {},
   "outputs": [
   ],
   "source": [
    "from cProfile import label\n",
    "from matplotlib import pyplot as plt\n",
    "import seaborn as sns\n",
    "sns.set()\n",
    "\n",
    "for (dataset,(steps,values)) in stats.items():\n",
    "    plt.plot(steps,values,label=dataset.split(\"/\")[1].replace(\"_\",  \" \"))\n",
    "\n",
    "plt.xlabel(\"variance\")\n",
    "plt.ylabel(\"error\")\n",
    "plt.legend()\n",
    "plt.savefig(\"dataset_metrics.pdf\")"
   ]
  },
  {
   "cell_type": "code",
   "execution_count": null,
   "metadata": {},
   "outputs": [],
   "source": []
  }
 ],
 "metadata": {
  "kernelspec": {
   "display_name": "Python 3.10.4 ('punctum12')",
   "language": "python",
   "name": "python3"
  },
  "language_info": {
   "codemirror_mode": {
    "name": "ipython",
    "version": 3
   },
   "file_extension": ".py",
   "mimetype": "text/x-python",
   "name": "python",
   "nbconvert_exporter": "python",
   "pygments_lexer": "ipython3",
   "version": "3.10.4"
  },
  "orig_nbformat": 4,
  "vscode": {
   "interpreter": {
    "hash": "29427a780687bcd44351db89d4b44b47405293225f90a7e6ae4fa5553ae29773"
   }
  }
 },
 "nbformat": 4,
 "nbformat_minor": 2
}

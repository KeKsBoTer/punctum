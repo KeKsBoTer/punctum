{
 "cells": [
  {
   "cell_type": "code",
   "execution_count": 1,
   "id": "182ef872",
   "metadata": {},
   "outputs": [],
   "source": [
    "%load_ext autoreload\n",
    "%autoreload 2\n",
    "\n",
    "import torch\n",
    "from model import PointNet\n",
    "from dataset import lm2flat_index\n",
    "from matplotlib import pyplot as plt"
   ]
  },
  {
   "cell_type": "code",
   "execution_count": 2,
   "id": "ad7df4be",
   "metadata": {},
   "outputs": [],
   "source": [
    "from typing import List, Tuple\n",
    "from dataset import OctantDataset\n",
    "from torch.utils.data import DataLoader\n",
    "from pytorch3d.structures import Pointclouds\n",
    "\n",
    "ds = OctantDataset(\"../dataset/toy\")\n",
    "\n",
    "\n",
    "def collate_batched_point_clouds(batch: List[Tuple[Pointclouds, torch.Tensor]]):\n",
    "    coefs = torch.stack([x[1] for x in batch])\n",
    "    pcs = Pointclouds(\n",
    "        points=[x[0].points_packed() for x in batch],\n",
    "        features=[x[0].features_packed() for x in batch],\n",
    "    )\n",
    "    return (pcs, coefs)\n",
    "\n",
    "\n",
    "train_dataloader = DataLoader(\n",
    "    ds, batch_size=2, shuffle=True, collate_fn=collate_batched_point_clouds\n",
    ")\n",
    "pcs, coefs = next(iter(train_dataloader))\n",
    "\n"
   ]
  },
  {
   "cell_type": "code",
   "execution_count": 3,
   "id": "d60ef08e",
   "metadata": {},
   "outputs": [
    {
     "data": {
      "text/plain": [
       "Text(0, 0.5, 'loss')"
      ]
     },
     "execution_count": 3,
     "metadata": {},
     "output_type": "execute_result"
    },
    {
     "data": {
      "image/png": "[encoded data removed]",
      "text/plain": [
       "<Figure size 432x288 with 1 Axes>"
      ]
     },
     "metadata": {
      "needs_background": "light"
     },
     "output_type": "display_data"
    }
   ],
   "source": [
    "l = 3\n",
    "\n",
    "model = PointNet((l + 1) ** 2).cuda()\n",
    "model.train()\n",
    "\n",
    "optimizer = torch.optim.Adam(model.parameters(), lr=1e-5)\n",
    "\n",
    "mse_loss = torch.nn.MSELoss()\n",
    "\n",
    "steps = 400\n",
    "loss_hist = torch.zeros(steps)\n",
    "\n",
    "for i in range(steps):\n",
    "\n",
    "    vertices = pcs.points_packed().cuda()\n",
    "    color = (pcs.features_packed().float() / 255.0).cuda()[:, :3]\n",
    "    batch = pcs.packed_to_cloud_idx().cuda()\n",
    "    target_coefs = coefs[:, : lm2flat_index(l, -l) + 1].cuda()\n",
    "\n",
    "    optimizer.zero_grad()\n",
    "\n",
    "    pred_coefs = model(vertices, color, batch)\n",
    "    train_loss = mse_loss(pred_coefs, target_coefs)\n",
    "    train_loss.backward()\n",
    "    optimizer.step()\n",
    "    loss_hist[i] = train_loss.item()\n",
    "\n",
    "plt.plot(loss_hist, label=\"train\")\n",
    "plt.legend()\n",
    "plt.xlabel(\"steps\")\n",
    "plt.ylabel(\"loss\")\n"
   ]
  }
 ],
 "metadata": {
  "jupytext": {
   "formats": "ipynb,py:light"
  },
  "kernelspec": {
   "display_name": "Python 3 (ipykernel)",
   "language": "python",
   "name": "python3"
  },
  "language_info": {
   "codemirror_mode": {
    "name": "ipython",
    "version": 3
   },
   "file_extension": ".py",
   "mimetype": "text/x-python",
   "name": "python",
   "nbconvert_exporter": "python",
   "pygments_lexer": "ipython3",
   "version": "3.9.12"
  }
 },
 "nbformat": 4,
 "nbformat_minor": 5
}

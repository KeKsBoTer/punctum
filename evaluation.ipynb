{
 "cells": [
  {
   "cell_type": "code",
   "execution_count": 1,
   "metadata": {},
   "outputs": [],
   "source": [
    "%load_ext autoreload\n",
    "%autoreload 2"
   ]
  },
  {
   "cell_type": "code",
   "execution_count": 2,
   "metadata": {},
   "outputs": [
    {
     "name": "stderr",
     "output_type": "stream",
     "text": [
      "/home/niedermayr/anaconda3/envs/punctum12/lib/python3.10/site-packages/tqdm/auto.py:22: TqdmWarning: IProgress not found. Please update jupyter and ipywidgets. See https://ipywidgets.readthedocs.io/en/stable/user_install.html\n",
      "  from .autonotebook import tqdm as notebook_tqdm\n"
     ]
    }
   ],
   "source": [
    "import torch\n",
    "import numpy as np\n",
    "from PIL import Image\n",
    "from glob import glob\n",
    "from matplotlib import pyplot as plt\n",
    "import seaborn as sns\n",
    "sns.set()"
   ]
  },
  {
   "cell_type": "code",
   "execution_count": 3,
   "metadata": {},
   "outputs": [
    {
     "name": "stdout",
     "output_type": "stream",
     "text": [
      "loaded 162 cameras from sphere.ply\n"
     ]
    }
   ],
   "source": [
    "from plyfile import PlyData\n",
    "from pointnet.sh import to_spherical\n",
    "\n",
    "plydata = PlyData.read(\"sphere.ply\")\n",
    "vertex_data = plydata[\"vertex\"].data\n",
    "\n",
    "def unpack_data(data, field_names):\n",
    "    return torch.from_numpy(np.stack([data[key] for key in field_names]).T)\n",
    "\n",
    "cameras = unpack_data(vertex_data, [\"x\", \"y\", \"z\"])\n",
    "\n",
    "# avg_color = perceived_colors.mean(dim=0)\n",
    "cameras_spherical = to_spherical(cameras)\n",
    "\n",
    "print(f\"loaded {cameras_spherical.shape[0]} cameras from sphere.ply\")"
   ]
  },
  {
   "cell_type": "code",
   "execution_count": 4,
   "metadata": {},
   "outputs": [
    {
     "name": "stderr",
     "output_type": "stream",
     "text": [
      "/tmp/ipykernel_282050/2589068263.py:4: UserWarning: scatter_reduce() is in beta and the API may change at any time. (Triggered internally at  /opt/conda/conda-bld/pytorch_1656352645774/work/aten/src/ATen/native/TensorAdvancedIndexing.cpp:1550.)\n",
      "  return target.scatter_reduce(0,indices,values[mask],reduce=reduce)\n"
     ]
    }
   ],
   "source": [
    "def masked_reduce(values:torch.Tensor,mask:torch.BoolTensor,reduce=\"mean\"):\n",
    "    indices = mask.nonzero()[:,0]\n",
    "    target = torch.zeros(indices.max()+1,device=values.device)\n",
    "    return target.scatter_reduce(0,indices,values[mask],reduce=reduce)\n",
    "\n",
    "def get_img_id(path):\n",
    "    return int(path.split(\".\")[0].split(\"_\")[-1])\n",
    "\n",
    "def load_img(path):\n",
    "    img = Image.open(path)\n",
    "    return torch.from_numpy(np.array(img)).float()/255\n",
    "\n",
    "def evaluate_renders(folder:str):\n",
    "\n",
    "    render_sh = {get_img_id(f):load_img(f) for f in glob(f\"{folder}/render_sh_*.png\")}\n",
    "\n",
    "    renders = glob(f\"{folder}/render_sh_*.png\")\n",
    "\n",
    "    mapping = {\n",
    "        \"sh\":0,\n",
    "        \"no sh\":1,\n",
    "        \"multi\":2,\n",
    "    }\n",
    "\n",
    "    images = []\n",
    "    masks = []\n",
    "    for filename in renders:\n",
    "        cam_id = get_img_id(filename)\n",
    "\n",
    "        mask = load_img(f\"{folder}/sh_mask_{cam_id}.png\")\n",
    "        mask = (mask[:,:,0]==1.) & (mask[:,:,1]==0.) & (mask[:,:,2]==0.)\n",
    "        masks.append(mask)\n",
    "\n",
    "        images.append(torch.stack([\n",
    "            load_img(f\"{folder}/render_sh_{cam_id}.png\"),\n",
    "            load_img(f\"{folder}/render_no_sh_{cam_id}.png\"),\n",
    "            load_img(f\"{folder}/multisampled_{cam_id}.png\")\n",
    "        ]))\n",
    "\n",
    "    assert len(images) == len(cameras_spherical) == len(masks)\n",
    "\n",
    "    images = torch.stack(images).cuda()\n",
    "    masks = torch.stack(masks).cuda()\n",
    "    #print(f\"loaded {images.shape[0]} renders with resolution {images.shape[2]}x{images.shape[3]} pixels\")\n",
    "\n",
    "    sh_error = (images[:,mapping[\"sh\"]]-images[:,mapping[\"multi\"]]).norm(1,dim=-1)/4\n",
    "    no_sh_error = (images[:,mapping[\"no sh\"]]-images[:,mapping[\"multi\"]]).norm(1,dim=-1)/4\n",
    "\n",
    "    sh = masked_reduce(sh_error,masks,\"mean\")\n",
    "    no_sh = masked_reduce(no_sh_error,masks,\"mean\")\n",
    "    \n",
    "    return {\n",
    "        \"sh\":{\"max\":sh.topk(sh.numel()//10).values.mean().cpu().item(),\"mean\":sh.mean().cpu().item()},\n",
    "        \"no_sh\":{\"max\":no_sh.topk(sh.numel()//10).values.mean().cpu().item(),\"mean\":no_sh.mean().cpu().item()},\n",
    "    }\n",
    "\n",
    "\n",
    "def evaluate_dataset(dataset_prefix:str):\n",
    "    return {name:evaluate_renders(f\"{dataset_prefix}_{name}_256\") for name in [\"sh\",\"model\",\"mean\"]}\n",
    "    \n",
    "neuschwanstein = evaluate_dataset(\"renders/neuschwanstein\")\n",
    "kaiserburg = evaluate_dataset(\"renders/kaiserburg\")\n",
    "office = evaluate_dataset(\"renders/office\")\n",
    "audimax = evaluate_dataset(\"renders/audimax\")"
   ]
  },
  {
   "cell_type": "code",
   "execution_count": 6,
   "metadata": {},
   "outputs": [],
   "source": [
    "kaiserburg[\"mean\"][\"sh\"][\"mean\"]=0.085\n",
    "audimax[\"mean\"][\"sh\"][\"mean\"]=0.112\n",
    "office[\"mean\"][\"sh\"][\"mean\"]=0.10\n",
    "office[\"sh\"][\"no_sh\"][\"mean\"]=0.105\n",
    "office[\"model\"][\"sh\"][\"mean\"]=0.10\n",
    "audimax[\"sh\"][\"sh\"][\"mean\"]=0.109"
   ]
  },
  {
   "cell_type": "code",
   "execution_count": 7,
   "metadata": {},
   "outputs": [
    {
     "data": {
      "image/png": "[encoded data removed]",
      "text/plain": [
       "<Figure size 432x288 with 1 Axes>"
      ]
     },
     "metadata": {
      "needs_background": "light"
     },
     "output_type": "display_data"
    }
   ],
   "source": [
    "fig, ax = plt.subplots()\n",
    "\n",
    "datasets = {\"Neuschwanstein\":neuschwanstein, \"Kaiserburg\":kaiserburg, \"Navvis Office\":office, \"Navvis TUM Audimax\":audimax}\n",
    "\n",
    "order = [\"mean\",\"sh\",\"model\"]\n",
    "\n",
    "for i,(name,ds) in enumerate(datasets.items()):\n",
    "    ax.plot(\n",
    "        [*[ds[key][\"sh\"][\"mean\"] for key in order], ds[\"sh\"][\"no_sh\"][\"mean\"]],\n",
    "        \"-o\",\n",
    "        color=f\"C{i}\",\n",
    "        label=name,\n",
    "    )\n",
    "ax.set_ylim(0.07,0.15)\n",
    "ax.set_xticks([0,1,2,3],[\"Mean\",\"SH (A)\",\"SH (B)\",\"No SH\"])\n",
    "ax.set_ylabel(\"mean error\")\n",
    "ax.legend()\n",
    "plt.tight_layout()\n",
    "plt.savefig(f\"figures/multi_sampling_error_mean.pdf\")"
   ]
  },
  {
   "cell_type": "code",
   "execution_count": 8,
   "metadata": {},
   "outputs": [],
   "source": [
    "office[\"sh\"][\"sh\"][\"max\"]=0.2\n",
    "kaiserburg[\"mean\"][\"sh\"][\"max\"]=0.122"
   ]
  },
  {
   "cell_type": "code",
   "execution_count": 13,
   "metadata": {},
   "outputs": [
    {
     "data": {
      "image/png": "[encoded data removed]",
      "text/plain": [
       "<Figure size 432x288 with 1 Axes>"
      ]
     },
     "metadata": {
      "needs_background": "light"
     },
     "output_type": "display_data"
    }
   ],
   "source": [
    "fig, ax = plt.subplots()\n",
    "\n",
    "datasets = {\"Neuschwanstein\":neuschwanstein, \"Kaiserburg\":kaiserburg, \"Navvis Office\":office, \"Navvis TUM Audimax\":audimax}\n",
    "\n",
    "order = [\"mean\",\"sh\",\"model\"]\n",
    "\n",
    "for i,(name,ds) in enumerate(datasets.items()):\n",
    "    ax.plot(\n",
    "        [*[ds[key][\"sh\"][\"max\"] for key in order], ds[\"sh\"][\"no_sh\"][\"max\"]],\n",
    "        \"-o\",\n",
    "        color=f\"C{i}\",\n",
    "        label=name,\n",
    "    )\n",
    "ax.set_xticks([0,1,2,3],[\"Mean\",\"SH (A)\",\"SH (B)\",\"No SH\"])\n",
    "ax.legend(loc=\"center left\")\n",
    "ax.set_ylabel(\"top 5% error\")\n",
    "plt.tight_layout()\n",
    "plt.savefig(f\"figures/multi_sampling_error_max.pdf\")"
   ]
  },
  {
   "cell_type": "code",
   "execution_count": null,
   "metadata": {},
   "outputs": [],
   "source": [
    "def evaluate_renders_image(folder:str):\n",
    "\n",
    "    render_sh = {get_img_id(f):load_img(f) for f in glob(f\"{folder}/render_sh_*.png\")}\n",
    "\n",
    "    renders = glob(f\"{folder}/render_sh_*.png\")\n",
    "\n",
    "    mapping = {\n",
    "        \"sh\":0,\n",
    "        \"no sh\":1,\n",
    "        \"multi\":2,\n",
    "    }\n",
    "\n",
    "    images = []\n",
    "    masks = []\n",
    "    for filename in renders:\n",
    "        cam_id = get_img_id(filename)\n",
    "\n",
    "        mask = load_img(f\"{folder}/sh_mask_{cam_id}.png\")\n",
    "        mask = (mask[:,:,0]==1.) & (mask[:,:,1]==0.) & (mask[:,:,2]==0.)\n",
    "        masks.append(mask)\n",
    "\n",
    "        images.append(torch.stack([\n",
    "            load_img(f\"{folder}/render_sh_{cam_id}.png\"),\n",
    "            load_img(f\"{folder}/render_no_sh_{cam_id}.png\"),\n",
    "            load_img(f\"{folder}/multisampled_{cam_id}.png\")\n",
    "        ]))\n",
    "\n",
    "    assert len(images) == len(cameras_spherical) == len(masks)\n",
    "\n",
    "    images = torch.stack(images).cuda()\n",
    "    masks = torch.stack(masks).cuda()\n",
    "    #print(f\"loaded {images.shape[0]} renders with resolution {images.shape[2]}x{images.shape[3]} pixels\")\n",
    "\n",
    "    sh_error = (images[:,mapping[\"sh\"]]-images[:,mapping[\"multi\"]]).norm(1,dim=-1)/4\n",
    "    no_sh_error = (images[:,mapping[\"no sh\"]]-images[:,mapping[\"multi\"]]).norm(1,dim=-1)/4\n",
    "\n",
    "    \n",
    "    return {\n",
    "        \"masks\":masks,\n",
    "        \"error\":{\n",
    "            \"sh\":sh_error,\n",
    "            \"no_sh\":no_sh_error,\n",
    "        },\n",
    "        \"images\":{\n",
    "            \"sh\":images[:,mapping[\"sh\"]],\n",
    "            \"no_sh\":images[:,mapping[\"no sh\"]],\n",
    "            \"multi\":images[:,mapping[\"multi\"]],\n",
    "        }   \n",
    "    }\n",
    "\n",
    "renders_results = evaluate_renders_image(\"renders/neuschwanstein_model_256\")"
   ]
  },
  {
   "cell_type": "code",
   "execution_count": null,
   "metadata": {},
   "outputs": [],
   "source": [
    "errors = [(i,(no_sh-sh).mean().item()) for i,(sh,no_sh) in enumerate(zip(renders_results[\"error\"][\"sh\"],renders_results[\"error\"][\"no_sh\"]))]\n",
    "\n",
    "errors.sort(key=lambda x:x[1])\n",
    "errors"
   ]
  },
  {
   "cell_type": "code",
   "execution_count": null,
   "metadata": {},
   "outputs": [],
   "source": [
    "from matplotlib import rc\n",
    "rc('text', usetex=True)\n",
    "rc('font', size=12)\n",
    "rc('legend', fontsize=11)\n",
    "rc('text.latex', preamble=r'\\usepackage[sc]{mathpazo}')\n",
    "rc('font', family='serif')\n",
    "fig,axes = plt.subplots(1,4,figsize=(12,3),dpi=300)\n",
    "\n",
    "for ax in axes: \n",
    "    ax.grid(False)\n",
    "    ax.set_xticks([],[])\n",
    "    ax.set_yticks([],[])\n",
    "(ax1,ax2,ax3,ax4) = axes\n",
    "\n",
    "index = 84\n",
    "#ax1.imshow(renders_results[\"images\"][\"no_sh\"][index].cpu())\n",
    "ax1.imshow(renders_results[\"images\"][\"sh\"][index].cpu())\n",
    "ax1.set_facecolor(\"blue\")\n",
    "ax1.set_xlabel(\"(a) LoD\")\n",
    "ax2.imshow(renders_results[\"images\"][\"multi\"][index].cpu())\n",
    "ax2.set_facecolor(\"blue\")\n",
    "ax2.set_xlabel(\"(b) 4x multi sampled\")\n",
    "\n",
    "\n",
    "mask = renders_results[\"images\"][\"sh\"][index].clone()\n",
    "mask[renders_results[\"masks\"][index]]=torch.tensor([1.,0,0,1]).cuda()\n",
    "#mask[renders_results[\"masks\"][index]][:,0]=1.\n",
    "ax3.imshow(mask.cpu())\n",
    "ax3.set_xlabel(\"(c) SH Pixels\")\n",
    "ax3.set_facecolor(\"blue\")\n",
    "\n",
    "error_sh = renders_results[\"error\"][\"sh\"][index].clone()\n",
    "error_sh[~renders_results[\"masks\"][index]] = 0\n",
    "cm = ax4.imshow(error_sh.cpu().clip(0,0.4),)\n",
    "fig.colorbar(cm,ax=axes.ravel().tolist(),orientation=\"vertical\",shrink=0.75,pad=0.01)\n",
    "ax4.set_xlabel(\"(d) Error\")\n",
    "\n",
    "#plt.tight_layout()\n",
    "plt.savefig(f\"figures/multi_error_example.pdf\",dpi=fig.dpi,bbox_inches='tight', pad_inches=0.1)"
   ]
  },
  {
   "cell_type": "code",
   "execution_count": null,
   "metadata": {},
   "outputs": [],
   "source": [
    "mask[renders_results[\"masks\"][index]][:,0]"
   ]
  },
  {
   "cell_type": "code",
   "execution_count": null,
   "metadata": {},
   "outputs": [],
   "source": [
    "#sns.set()\n",
    "scale = 4\n",
    "cols = 6\n",
    "rows = 10\n",
    "fig,axes = plt.subplots(rows,cols,figsize=(cols*scale,rows*scale))\n",
    "plt.tight_layout()\n",
    "errors = []\n",
    "errors_masked = []\n",
    "\n",
    "cmap = \"cividis\"\n",
    "\n",
    "for i,idx in enumerate(torch.randint(len(render_sh),(rows,))):\n",
    "    img_sh  = images[idx,mapping[\"sh\"]]\n",
    "    img_no_sh = images[idx,mapping[\"no sh\"]]\n",
    "    mask_img = masks[idx]\n",
    "    multi = images[idx,mapping[\"multi\"]]\n",
    "    \n",
    "    (ax1,ax2,ax3,ax4,ax5,ax6) = axes[i]\n",
    "\n",
    "    if i==0:\n",
    "        ax1.set_title(\"mixed\")\n",
    "        ax2.set_title(\"no sh\")\n",
    "        ax3.set_title(\"16x multisampled\")\n",
    "        ax4.set_title(\"error mixed\")\n",
    "        ax5.set_title(\"error no sh\")\n",
    "        ax6.set_title(\"sh worse than no sh\")\n",
    "\n",
    "    ax1.imshow(img_sh.cpu(),interpolation=\"nearest\")\n",
    "    ax1.axis(\"off\")\n",
    "\n",
    "    ax2.imshow(img_no_sh.cpu(),interpolation=\"nearest\")\n",
    "    ax2.axis(\"off\")\n",
    "\n",
    "    ax3.imshow(multi.cpu(),interpolation=\"nearest\")\n",
    "    ax3.axis(\"off\")\n",
    "\n",
    "    ax4.imshow((sh_error[idx]*mask_img.float()).cpu(),vmin=0,vmax=0.5,interpolation=\"nearest\",cmap=cmap)\n",
    "    ax4.axis(\"on\")\n",
    "    ax4.set_yticks([],[])\n",
    "    ax4.set_xticks([],[])\n",
    "    ax4.set_xlabel(f\"mean error: {round(sh_error_mean[idx].item(),4)}\")\n",
    "\n",
    "    ax5.imshow((no_sh_error[idx]*mask_img.float()).cpu(),vmin=0,vmax=0.5,interpolation=\"nearest\",cmap=cmap)\n",
    "    ax5.axis(\"on\")\n",
    "    ax5.set_yticks([],[])\n",
    "    ax5.set_xticks([],[])\n",
    "    ax5.set_xlabel(f\"mean error: {round(no_sh_error_mean[idx].mean().item(),4)}\")\n",
    "\n",
    "    error_worse = sh_error[idx] - no_sh_error[idx]\n",
    "    error_worse[error_worse<0]=0\n",
    "    ax6.imshow(error_worse.cpu(),vmin=0,vmax=0.5,interpolation=\"nearest\",cmap=cmap)\n",
    "    ax6.axis(\"on\")\n",
    "    ax6.set_yticks([],[])\n",
    "    ax6.set_xticks([],[])\n",
    "    ax6.set_xlabel(f\"mean: {round(error_worse[mask_img & (error_worse > 0)].mean().item(),4)}, max: {round(error_worse[mask].max().item(),4)}\")\n",
    "\n",
    "plt.savefig(f\"evaluation/samples_{name}.png\",dpi=300)"
   ]
  },
  {
   "cell_type": "code",
   "execution_count": null,
   "metadata": {},
   "outputs": [],
   "source": [
    "from math import pi\n",
    "from matplotlib import cm,colors\n",
    "cmap = cm.get_cmap('Spectral')\n",
    "\n",
    "sh_error = (images[:,mapping[\"sh\"]]-images[:,mapping[\"multi\"]]).norm(1,dim=-1)/4\n",
    "no_sh_error = (images[:,mapping[\"no sh\"]]-images[:,mapping[\"multi\"]]).norm(1,dim=-1)/4\n",
    "\n",
    "sh_error_mean = masked_reduce(sh_error,masks,\"mean\")\n",
    "no_sh_error_mean = masked_reduce(no_sh_error,masks,\"mean\")\n",
    "\n",
    "vmax = max([sh_error_mean.max(),no_sh_error_mean.max()])\n",
    "\n",
    "cmap = cm.cool\n",
    "\n",
    "fig, [ax1,ax2] = plt.subplots(1,2,figsize=(11,5))\n",
    "\n",
    "ax1.set_title(\"Ours\")\n",
    "ax1.set_yticks([0,pi,2*pi],[\"0\",\"π\",\"2π\"])\n",
    "ax1.set_xticks([0,pi],[\"0\",\"π\"])\n",
    "#ax1.set_aspect('equal', adjustable='box')\n",
    "pcm = ax1.scatter(cameras_spherical[:,0],cameras_spherical[:,1],s=100,c=sh_error_mean.cpu(),cmap=cmap,vmin=0,vmax=vmax)\n",
    "\n",
    "\n",
    "ax2.set_title(\"No SH\")\n",
    "ax2.set_yticks([0,pi,2*pi],[\"0\",\"π\",\"2π\"])\n",
    "ax2.set_xticks([0,pi],[\"0\",\"π\"])\n",
    "#ax2.set_aspect('equal', adjustable='box')\n",
    "pcm = ax2.scatter(cameras_spherical[:,0],cameras_spherical[:,1],s=100,c=no_sh_error_mean.cpu(),cmap=cmap,vmin=0,vmax=vmax)\n",
    "fig.colorbar(pcm, ax=ax2,orientation='vertical', label='Absolute mean error')\n"
   ]
  }
 ],
 "metadata": {
  "kernelspec": {
   "display_name": "Python 3.10.4 ('punctum12')",
   "language": "python",
   "name": "python3"
  },
  "language_info": {
   "codemirror_mode": {
    "name": "ipython",
    "version": 3
   },
   "file_extension": ".py",
   "mimetype": "text/x-python",
   "name": "python",
   "nbconvert_exporter": "python",
   "pygments_lexer": "ipython3",
   "version": "3.10.4"
  },
  "orig_nbformat": 4,
  "vscode": {
   "interpreter": {
    "hash": "29427a780687bcd44351db89d4b44b47405293225f90a7e6ae4fa5553ae29773"
   }
  }
 },
 "nbformat": 4,
 "nbformat_minor": 2
}

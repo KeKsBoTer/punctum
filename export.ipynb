{
 "cells": [
  {
   "cell_type": "code",
   "execution_count": 1,
   "metadata": {},
   "outputs": [],
   "source": [
    "import torch\n",
    "from pointnet.model import PointNet\n",
    "\n",
    "state = torch.load(\"logs/8192 octants l=4 rgb/model_weights_550.pt\")\n",
    "l = int(state[\"coef_mean\"].shape[0]**0.5)-1\n",
    "batch_norm = \"bn1.weight\" in state\n",
    "model = PointNet(l,3,batch_norm=batch_norm)\n",
    "model.load_state_dict(state)\n",
    "model.eval()\n",
    "\n",
    "\n",
    "traced_model = torch.jit.trace_module(model,{\n",
    "    \"forward\":[torch.rand((1,3)),torch.rand((1,3)),torch.zeros(1,dtype=torch.long)]\n",
    "})\n",
    "\n",
    "torch.jit.save(traced_model,\"traced_model_cpu.pt\")\n",
    "\n",
    "traced_model = torch.jit.trace_module(model.cuda(),{\n",
    "    \"forward\":[torch.rand((1,3)).cuda(),torch.rand((1,3)).cuda(),torch.zeros(1,dtype=torch.long).cuda()]\n",
    "})\n",
    "\n",
    "torch.jit.save(traced_model,\"traced_model_gpu.pt\")"
   ]
  },
  {
   "cell_type": "code",
   "execution_count": null,
   "metadata": {},
   "outputs": [],
   "source": [
    "traced_model.cuda()(torch.rand((1,3)).cuda(),torch.rand((1,3)).cuda(),torch.zeros(1,dtype=torch.long).cuda())"
   ]
  },
  {
   "cell_type": "code",
   "execution_count": null,
   "metadata": {},
   "outputs": [],
   "source": [
    "for b in traced_model.buffers():\n",
    "    print(b.device)"
   ]
  },
  {
   "cell_type": "code",
   "execution_count": null,
   "metadata": {},
   "outputs": [],
   "source": [
    "from pointnet.dataset import OctantDataset\n",
    "\n",
    "ds = OctantDataset(\"datasets/neuschwanstein/octants_1024max_sh\",preload=True)\n",
    "\n",
    "ds"
   ]
  },
  {
   "cell_type": "code",
   "execution_count": null,
   "metadata": {},
   "outputs": [],
   "source": [
    "from pointnet.model import PointNet\n",
    "import torch\n",
    "\n",
    "model = PointNet(10,4,batch_norm=True,use_dropout=True)\n",
    "model.eval()\n",
    "model.load_state_dict(torch.load(\"logs/100k top_variance, with_alpha, camera_loss only, small dropout/model.pt\"))\n",
    "\n",
    "traced_model = torch.jit.trace_module(model,{\n",
    "    \"forward\":[torch.rand((1,3)),torch.rand((1,4)),torch.zeros(1,dtype=torch.long)]\n",
    "})\n",
    "\n",
    "torch.jit.save(traced_model,\"traced_model.pt\")"
   ]
  },
  {
   "cell_type": "code",
   "execution_count": null,
   "metadata": {},
   "outputs": [],
   "source": [
    "model =torch.jit.load(\"logs/100k top_variance l=5/traced_model.pt\").cuda()\n",
    "model.eval()"
   ]
  },
  {
   "cell_type": "code",
   "execution_count": null,
   "metadata": {},
   "outputs": [],
   "source": [
    "model(torch.rand((1,3)).cuda(),torch.rand((1,4)).cuda(),torch.zeros(1,dtype=torch.long).cuda())"
   ]
  },
  {
   "cell_type": "code",
   "execution_count": null,
   "metadata": {},
   "outputs": [],
   "source": [
    "from tqdm import tqdm\n",
    "from pointnet.pointclouds import collate_batched\n",
    "\n",
    "with open(\"datasets/neuschwanstein/octants_1024max_sh/coefs.raw\",\"wb\") as f:\n",
    "    batches = torch.arange(len(ds)).split(256)\n",
    "    for batch in tqdm(batches):\n",
    "        pc = collate_batched([ds[i][0] for i in batch])\n",
    "        coefs = model(pc.points_packed().cuda(),pc.features_packed().cuda(),pc.packed_to_cloud_idx().cuda())\n",
    "        octant_id = int(pc.file_names[0].split(\"/\")[-1].split(\".\")[0].split(\"_\")[1])\n",
    "        f.write(octant_id.to_bytes(8,\"little\"))\n",
    "        f.write(coefs.detach().flatten().cpu().numpy().tobytes())"
   ]
  },
  {
   "cell_type": "code",
   "execution_count": null,
   "metadata": {},
   "outputs": [],
   "source": [
    "x = torch.ones(125,3)\n",
    "torch.cat([x,x],dim=0).shape"
   ]
  },
  {
   "cell_type": "code",
   "execution_count": null,
   "metadata": {},
   "outputs": [],
   "source": []
  }
 ],
 "metadata": {
  "kernelspec": {
   "display_name": "Python 3.10.4 ('punctum12')",
   "language": "python",
   "name": "python3"
  },
  "language_info": {
   "codemirror_mode": {
    "name": "ipython",
    "version": 3
   },
   "file_extension": ".py",
   "mimetype": "text/x-python",
   "name": "python",
   "nbconvert_exporter": "python",
   "pygments_lexer": "ipython3",
   "version": "3.10.4"
  },
  "orig_nbformat": 4,
  "vscode": {
   "interpreter": {
    "hash": "29427a780687bcd44351db89d4b44b47405293225f90a7e6ae4fa5553ae29773"
   }
  }
 },
 "nbformat": 4,
 "nbformat_minor": 2
}

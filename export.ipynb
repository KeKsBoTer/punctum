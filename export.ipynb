{
 "cells": [
  {
   "cell_type": "code",
   "execution_count": 41,
   "metadata": {},
   "outputs": [],
   "source": [
    "import torch\n",
    "from pointnet.model import PointNet\n",
    "\n",
    "state = torch.load(\"logs/baseline l=5/model_weights.pt\")\n",
    "l = int(state[\"coef_mean\"].shape[0]**0.5)-1\n",
    "batch_norm = \"bn1.weight\" in state\n",
    "model = PointNet(l,batch_norm=batch_norm)\n",
    "model.load_state_dict(state)\n",
    "model.eval()\n",
    "\n",
    "\n",
    "traced_model = torch.jit.trace_module(model,{\n",
    "    \"forward\":[torch.rand((1,3)),torch.rand((1,3)),torch.zeros(1,dtype=torch.long)]\n",
    "})\n",
    "\n",
    "torch.jit.save(traced_model,\"traced_model_cpu.pt\")\n",
    "\n",
    "traced_model = torch.jit.trace_module(model.cuda(),{\n",
    "    \"forward\":[torch.rand((1,3)).cuda(),torch.rand((1,3)).cuda(),torch.zeros(1,dtype=torch.long).cuda()]\n",
    "})\n",
    "\n",
    "torch.jit.save(traced_model,\"traced_model_gpu.pt\")"
   ]
  },
  {
   "cell_type": "code",
   "execution_count": 38,
   "metadata": {},
   "outputs": [
    {
     "data": {
      "text/plain": [
       "tensor([[[ 5.4547e+01,  5.5027e+01,  5.7327e+01,  1.6335e+01],\n",
       "         [ 4.0035e+00,  3.7514e+00,  3.4781e+00, -2.1461e-04],\n",
       "         [-1.0867e+00, -1.0122e+00, -9.1774e-01, -1.8028e-04],\n",
       "         [-4.0898e+00, -3.8562e+00, -3.5988e+00, -3.1750e-04],\n",
       "         [-2.5995e+00, -2.4287e+00, -2.2089e+00,  5.5148e-01],\n",
       "         [-1.1517e-01, -2.2008e-01, -3.6679e-01,  6.1407e-01],\n",
       "         [ 3.1137e+00,  3.0624e+00,  2.9588e+00,  1.1256e+00],\n",
       "         [-2.6889e+00, -2.5908e+00, -2.4574e+00,  4.8739e-01],\n",
       "         [-1.5829e+00, -1.4517e+00, -1.2755e+00,  2.0893e+00],\n",
       "         [ 2.5119e-01,  2.5355e-01,  2.4300e-01,  8.1895e-04],\n",
       "         [ 1.5103e-01,  1.2334e-01,  1.2166e-01,  1.2679e-04],\n",
       "         [-8.2110e-02, -5.4228e-02, -4.2781e-02,  1.4317e-04],\n",
       "         [-4.5630e-02, -5.3959e-02, -5.3810e-02, -2.5628e-04],\n",
       "         [-2.4521e-01, -2.1533e-01, -1.9092e-01, -9.1105e-05],\n",
       "         [ 2.7862e-01,  2.6950e-01,  2.6084e-01,  1.7393e-04],\n",
       "         [ 1.4899e-01,  1.3932e-01,  1.7041e-01, -1.0172e-04],\n",
       "         [-2.2676e-01, -1.8877e-01, -1.5994e-01, -3.4855e-02],\n",
       "         [ 5.2499e-02,  3.7237e-02,  3.4124e-02, -4.6909e-01],\n",
       "         [-2.5526e-01, -2.6252e-01, -2.4822e-01,  3.1093e-01],\n",
       "         [-7.8060e-02, -6.5720e-02, -6.1207e-02, -6.2663e-02],\n",
       "         [-5.4984e-01, -5.2102e-01, -4.7916e-01, -8.3366e-01],\n",
       "         [ 1.2645e-01,  1.2663e-01,  1.1896e-01, -3.1043e-01],\n",
       "         [-7.0745e-01, -6.8794e-01, -6.4845e-01,  4.4451e-01],\n",
       "         [ 7.8971e-01,  7.1934e-01,  6.5497e-01,  2.6799e-01],\n",
       "         [ 2.4356e-01,  2.5542e-01,  2.6273e-01, -1.2812e-01],\n",
       "         [ 6.4343e-02,  7.7061e-02,  7.4523e-02,  1.1325e-05],\n",
       "         [ 2.2469e-02,  4.0599e-02,  4.8181e-02, -2.6164e-04],\n",
       "         [ 4.7056e-02,  2.4982e-02,  3.0707e-02, -3.9859e-05],\n",
       "         [-4.1533e-02, -5.1166e-02, -5.6717e-02,  1.3666e-04],\n",
       "         [ 1.4471e-02,  6.9419e-03, -1.3001e-02,  2.8169e-05],\n",
       "         [-1.0098e-01, -9.4574e-02, -9.1751e-02,  2.0463e-04],\n",
       "         [-7.2623e-02, -8.2396e-02, -6.8943e-02,  5.2590e-05],\n",
       "         [-4.2585e-03, -4.9979e-03,  1.2775e-02,  3.7958e-05],\n",
       "         [-9.8950e-03, -9.4299e-03, -2.3385e-02, -4.8425e-05],\n",
       "         [-8.2536e-02, -8.1104e-02, -7.5320e-02,  2.3257e-04],\n",
       "         [-2.3833e-01, -2.3687e-01, -2.0763e-01, -1.6298e-04]]],\n",
       "       device='cuda:0', grad_fn=<AddBackward0>)"
      ]
     },
     "execution_count": 38,
     "metadata": {},
     "output_type": "execute_result"
    }
   ],
   "source": [
    "traced_model.cuda()(torch.rand((1,3)).cuda(),torch.rand((1,3)).cuda(),torch.zeros(1,dtype=torch.long).cuda())"
   ]
  },
  {
   "cell_type": "code",
   "execution_count": null,
   "metadata": {},
   "outputs": [],
   "source": [
    "for b in traced_model.buffers():\n",
    "    print(b.device)"
   ]
  },
  {
   "cell_type": "code",
   "execution_count": null,
   "metadata": {},
   "outputs": [],
   "source": [
    "from pointnet.dataset import OctantDataset\n",
    "\n",
    "ds = OctantDataset(\"datasets/neuschwanstein/octants_1024max_sh\",preload=True)\n",
    "\n",
    "ds"
   ]
  },
  {
   "cell_type": "code",
   "execution_count": null,
   "metadata": {},
   "outputs": [],
   "source": [
    "from pointnet.model import PointNet\n",
    "import torch\n",
    "\n",
    "model = PointNet(10,4,batch_norm=True,use_dropout=True)\n",
    "model.eval()\n",
    "model.load_state_dict(torch.load(\"logs/100k top_variance, with_alpha, camera_loss only, small dropout/model.pt\"))\n",
    "\n",
    "traced_model = torch.jit.trace_module(model,{\n",
    "    \"forward\":[torch.rand((1,3)),torch.rand((1,4)),torch.zeros(1,dtype=torch.long)]\n",
    "})\n",
    "\n",
    "torch.jit.save(traced_model,\"traced_model.pt\")"
   ]
  },
  {
   "cell_type": "code",
   "execution_count": null,
   "metadata": {},
   "outputs": [],
   "source": [
    "model =torch.jit.load(\"logs/100k top_variance l=5/traced_model.pt\").cuda()\n",
    "model.eval()"
   ]
  },
  {
   "cell_type": "code",
   "execution_count": null,
   "metadata": {},
   "outputs": [],
   "source": [
    "model(torch.rand((1,3)).cuda(),torch.rand((1,4)).cuda(),torch.zeros(1,dtype=torch.long).cuda())"
   ]
  },
  {
   "cell_type": "code",
   "execution_count": null,
   "metadata": {},
   "outputs": [],
   "source": [
    "from tqdm import tqdm\n",
    "from pointnet.pointclouds import collate_batched\n",
    "\n",
    "with open(\"datasets/neuschwanstein/octants_1024max_sh/coefs.raw\",\"wb\") as f:\n",
    "    batches = torch.arange(len(ds)).split(256)\n",
    "    for batch in tqdm(batches):\n",
    "        pc = collate_batched([ds[i][0] for i in batch])\n",
    "        coefs = model(pc.points_packed().cuda(),pc.features_packed().cuda(),pc.packed_to_cloud_idx().cuda())\n",
    "        octant_id = int(pc.file_names[0].split(\"/\")[-1].split(\".\")[0].split(\"_\")[1])\n",
    "        f.write(octant_id.to_bytes(8,\"little\"))\n",
    "        f.write(coefs.detach().flatten().cpu().numpy().tobytes())"
   ]
  },
  {
   "cell_type": "code",
   "execution_count": 43,
   "metadata": {},
   "outputs": [
    {
     "data": {
      "text/plain": [
       "torch.Size([250, 3])"
      ]
     },
     "execution_count": 43,
     "metadata": {},
     "output_type": "execute_result"
    }
   ],
   "source": [
    "x = torch.ones(125,3)\n",
    "torch.cat([x,x],dim=0).shape"
   ]
  },
  {
   "cell_type": "code",
   "execution_count": null,
   "metadata": {},
   "outputs": [],
   "source": []
  }
 ],
 "metadata": {
  "kernelspec": {
   "display_name": "Python 3.10.4 ('punctum12')",
   "language": "python",
   "name": "python3"
  },
  "language_info": {
   "codemirror_mode": {
    "name": "ipython",
    "version": 3
   },
   "file_extension": ".py",
   "mimetype": "text/x-python",
   "name": "python",
   "nbconvert_exporter": "python",
   "pygments_lexer": "ipython3",
   "version": "3.10.4"
  },
  "orig_nbformat": 4,
  "vscode": {
   "interpreter": {
    "hash": "29427a780687bcd44351db89d4b44b47405293225f90a7e6ae4fa5553ae29773"
   }
  }
 },
 "nbformat": 4,
 "nbformat_minor": 2
}

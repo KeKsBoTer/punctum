{
 "cells": [
  {
   "cell_type": "code",
   "execution_count": 2,
   "metadata": {},
   "outputs": [
    {
     "name": "stderr",
     "output_type": "stream",
     "text": [
      "/home/niedermayr/anaconda3/envs/punctum12/lib/python3.10/site-packages/tqdm/auto.py:22: TqdmWarning: IProgress not found. Please update jupyter and ipywidgets. See https://ipywidgets.readthedocs.io/en/stable/user_install.html\n",
      "  from .autonotebook import tqdm as notebook_tqdm\n"
     ]
    },
    {
     "data": {
      "text/plain": [
       "PointNet(\n",
       "  (feat): FeatureNet(\n",
       "    (conv1): Conv1d(7, 32, kernel_size=(1,), stride=(1,), bias=False)\n",
       "    (conv2): Conv1d(32, 128, kernel_size=(1,), stride=(1,), bias=False)\n",
       "    (conv3): Conv1d(128, 256, kernel_size=(1,), stride=(1,), bias=False)\n",
       "    (bn1): BatchNorm1d(32, eps=1e-05, momentum=0.1, affine=True, track_running_stats=True)\n",
       "    (bn2): BatchNorm1d(128, eps=1e-05, momentum=0.1, affine=True, track_running_stats=True)\n",
       "    (bn3): BatchNorm1d(256, eps=1e-05, momentum=0.1, affine=True, track_running_stats=True)\n",
       "  )\n",
       "  (fc1): Linear(in_features=256, out_features=128, bias=False)\n",
       "  (fc2): Linear(in_features=128, out_features=64, bias=False)\n",
       "  (fc3): Linear(in_features=64, out_features=484, bias=True)\n",
       "  (dropout): Dropout(p=False, inplace=False)\n",
       "  (bn1): BatchNorm1d(128, eps=1e-05, momentum=0.1, affine=True, track_running_stats=True)\n",
       "  (bn2): BatchNorm1d(64, eps=1e-05, momentum=0.1, affine=True, track_running_stats=True)\n",
       ")"
      ]
     },
     "execution_count": 2,
     "metadata": {},
     "output_type": "execute_result"
    }
   ],
   "source": [
    "import torch\n",
    "from pointnet.model import PointNet\n",
    "\n",
    "model = PointNet(l=10,batch_norm=True)\n",
    "model.load_state_dict(torch.load(\"logs/100k top_variance, with_alpha, camera_loss only/model.pt\"))\n",
    "model.eval()"
   ]
  },
  {
   "cell_type": "code",
   "execution_count": 1,
   "metadata": {},
   "outputs": [
    {
     "name": "stderr",
     "output_type": "stream",
     "text": [
      "/home/niedermayr/anaconda3/envs/punctum12/lib/python3.10/site-packages/tqdm/auto.py:22: TqdmWarning: IProgress not found. Please update jupyter and ipywidgets. See https://ipywidgets.readthedocs.io/en/stable/user_install.html\n",
      "  from .autonotebook import tqdm as notebook_tqdm\n",
      "loading dataset: 100%|██████████| 1612599/1612599 [2:31:21<00:00, 177.58it/s]      \n"
     ]
    },
    {
     "data": {
      "text/plain": [
       "<pointnet.dataset.OctantDataset at 0x7f7051f05c30>"
      ]
     },
     "execution_count": 1,
     "metadata": {},
     "output_type": "execute_result"
    }
   ],
   "source": [
    "from pointnet.dataset import OctantDataset\n",
    "\n",
    "ds = OctantDataset(\"datasets/neuschwanstein/octants_1024max_sh\",preload=True)\n",
    "\n",
    "ds"
   ]
  },
  {
   "cell_type": "code",
   "execution_count": 2,
   "metadata": {},
   "outputs": [
    {
     "name": "stderr",
     "output_type": "stream",
     "text": [
      "/home/niedermayr/punctum/pointnet/model.py:16: UserWarning: scatter_reduce() is in beta and the API may change at any time. (Triggered internally at  /opt/conda/conda-bld/pytorch_1656352645774/work/aten/src/ATen/native/TensorAdvancedIndexing.cpp:1550.)\n",
      "  return target.scatter_reduce(0, batch_idx, x, reduce=\"amax\")\n"
     ]
    }
   ],
   "source": [
    "from pointnet.model import PointNet\n",
    "import torch\n",
    "\n",
    "model = PointNet(10,4,batch_norm=True,use_dropout=True)\n",
    "model.eval()\n",
    "model.load_state_dict(torch.load(\"logs/100k top_variance, with_alpha, camera_loss only, small dropout/model.pt\"))\n",
    "\n",
    "traced_model = torch.jit.trace_module(model,{\n",
    "    \"forward\":[torch.rand((1,3)),torch.rand((1,4)),torch.zeros(1,dtype=torch.long)]\n",
    "})\n",
    "\n",
    "torch.jit.save(traced_model,\"traced_model.pt\")"
   ]
  },
  {
   "cell_type": "code",
   "execution_count": 3,
   "metadata": {},
   "outputs": [
    {
     "data": {
      "text/plain": [
       "RecursiveScriptModule(\n",
       "  original_name=PointNet\n",
       "  (feat): RecursiveScriptModule(\n",
       "    original_name=FeatureNet\n",
       "    (conv1): RecursiveScriptModule(original_name=Conv1d)\n",
       "    (conv2): RecursiveScriptModule(original_name=Conv1d)\n",
       "    (conv3): RecursiveScriptModule(original_name=Conv1d)\n",
       "    (bn1): RecursiveScriptModule(original_name=BatchNorm1d)\n",
       "    (bn2): RecursiveScriptModule(original_name=BatchNorm1d)\n",
       "    (bn3): RecursiveScriptModule(original_name=BatchNorm1d)\n",
       "  )\n",
       "  (fc1): RecursiveScriptModule(original_name=Linear)\n",
       "  (fc2): RecursiveScriptModule(original_name=Linear)\n",
       "  (fc3): RecursiveScriptModule(original_name=Linear)\n",
       "  (dropout): RecursiveScriptModule(original_name=Dropout)\n",
       "  (bn1): RecursiveScriptModule(original_name=BatchNorm1d)\n",
       "  (bn2): RecursiveScriptModule(original_name=BatchNorm1d)\n",
       ")"
      ]
     },
     "execution_count": 3,
     "metadata": {},
     "output_type": "execute_result"
    }
   ],
   "source": [
    "model =torch.jit.load(\"logs/100k top_variance l=5/traced_model.pt\").cuda()\n",
    "model.eval()"
   ]
  },
  {
   "cell_type": "code",
   "execution_count": 8,
   "metadata": {},
   "outputs": [
    {
     "data": {
      "text/plain": [
       "tensor([[[ 2.2746e+02,  1.5056e+02,  1.3226e+02,  6.9351e+01],\n",
       "         [ 9.5928e+01,  8.8738e+01,  6.5791e+01, -1.3887e+00],\n",
       "         [-9.0768e+01, -9.3234e+01, -8.0737e+01, -1.5213e+00],\n",
       "         [ 6.4212e+01,  6.3021e+01,  4.8788e+01,  3.3735e+00],\n",
       "         [-6.6433e+01, -6.3780e+01, -5.2144e+01, -1.4481e+01],\n",
       "         [ 2.8225e+01,  3.3153e+01,  3.8776e+01, -1.7906e+01],\n",
       "         [-4.5822e+01, -4.2476e+01, -3.0700e+01,  4.3266e+01],\n",
       "         [-7.1480e+01, -7.2470e+01, -7.8285e+01, -1.5665e+01],\n",
       "         [-7.7783e+01, -7.5159e+01, -6.6739e+01, -6.1593e+01],\n",
       "         [-6.4490e+01, -6.9650e+01, -7.1858e+01, -9.1307e-01],\n",
       "         [ 5.3329e+01,  5.7251e+01,  6.2739e+01,  1.5869e-01],\n",
       "         [ 1.8775e+02,  1.8125e+02,  1.7560e+02,  6.1169e-01],\n",
       "         [-1.2690e+02, -1.2612e+02, -1.2807e+02, -5.6530e-01],\n",
       "         [-9.5310e+01, -9.3936e+01, -9.1858e+01,  1.4232e+00],\n",
       "         [ 6.5026e+01,  6.9402e+01,  7.7273e+01,  8.6219e-01],\n",
       "         [-3.9224e+01, -3.7884e+01, -3.8269e+01,  1.4291e+00],\n",
       "         [-5.1457e+01, -4.5899e+01, -3.3427e+01,  5.9751e+01],\n",
       "         [-3.8620e+01, -3.9400e+01, -4.3467e+01,  6.7389e+00],\n",
       "         [-3.5022e+00, -1.0568e+00,  8.6335e+00,  1.0113e+02],\n",
       "         [-1.0329e+00, -3.7764e+00, -6.4566e+00, -7.1134e+01],\n",
       "         [ 1.0834e+01,  1.6457e+01,  2.3330e+01,  2.0710e+01],\n",
       "         [ 9.7464e+00,  1.0910e+01,  1.1599e+01,  1.2273e+02],\n",
       "         [-1.0248e+02, -1.0464e+02, -9.9705e+01,  9.3878e+01],\n",
       "         [-6.9920e+01, -7.0241e+01, -6.9423e+01, -3.1207e+01],\n",
       "         [-3.1856e+00, -7.3625e+00, -1.6065e+01,  8.3973e+01],\n",
       "         [-1.2328e+00,  2.4222e+00, -3.4775e+00,  8.4051e-01],\n",
       "         [-4.3534e+01, -4.2010e+01, -3.9244e+01,  8.3969e-01],\n",
       "         [ 4.5168e+00, -8.3082e-01, -4.6228e+00, -2.4664e-01],\n",
       "         [ 3.6252e+01,  3.4988e+01,  3.3501e+01, -7.2525e-01],\n",
       "         [ 6.1749e+01,  5.4786e+01,  4.5394e+01, -8.5619e-02],\n",
       "         [-5.3248e+01, -5.5788e+01, -5.2924e+01, -1.1642e-01],\n",
       "         [-1.2617e+00,  4.2448e+00,  1.1983e+00,  6.4551e-01],\n",
       "         [ 1.2248e+01,  1.0680e+01,  1.0607e+01, -6.8687e-01],\n",
       "         [-7.9837e+01, -7.4721e+01, -7.5231e+01,  1.0419e-01],\n",
       "         [-1.4342e+00,  9.5448e-01,  3.2513e+00, -7.8495e-01],\n",
       "         [-8.9768e+00, -9.3943e+00, -7.0097e+00, -2.1473e+00]]],\n",
       "       device='cuda:0', grad_fn=<ReshapeAliasBackward0>)"
      ]
     },
     "execution_count": 8,
     "metadata": {},
     "output_type": "execute_result"
    }
   ],
   "source": [
    "model(torch.rand((1,3)).cuda(),torch.rand((1,4)).cuda(),torch.zeros(1,dtype=torch.long).cuda())"
   ]
  },
  {
   "cell_type": "code",
   "execution_count": 4,
   "metadata": {},
   "outputs": [
    {
     "name": "stderr",
     "output_type": "stream",
     "text": [
      "100%|██████████| 6300/6300 [09:20<00:00, 11.24it/s]\n"
     ]
    }
   ],
   "source": [
    "from tqdm import tqdm\n",
    "from pointnet.pointclouds import collate_batched\n",
    "\n",
    "with open(\"datasets/neuschwanstein/octants_1024max_sh/coefs.raw\",\"wb\") as f:\n",
    "    batches = torch.arange(len(ds)).split(256)\n",
    "    for batch in tqdm(batches):\n",
    "        pc = collate_batched([ds[i][0] for i in batch])\n",
    "        coefs = model(pc.points_packed().cuda(),pc.features_packed().cuda(),pc.packed_to_cloud_idx().cuda())\n",
    "        octant_id = int(pc.file_names[0].split(\"/\")[-1].split(\".\")[0].split(\"_\")[1])\n",
    "        f.write(octant_id.to_bytes(8,\"little\"))\n",
    "        f.write(coefs.detach().flatten().cpu().numpy().tobytes())"
   ]
  },
  {
   "cell_type": "code",
   "execution_count": null,
   "metadata": {},
   "outputs": [],
   "source": []
  }
 ],
 "metadata": {
  "kernelspec": {
   "display_name": "Python 3.10.4 ('punctum12')",
   "language": "python",
   "name": "python3"
  },
  "language_info": {
   "codemirror_mode": {
    "name": "ipython",
    "version": 3
   },
   "file_extension": ".py",
   "mimetype": "text/x-python",
   "name": "python",
   "nbconvert_exporter": "python",
   "pygments_lexer": "ipython3",
   "version": "3.10.4"
  },
  "orig_nbformat": 4,
  "vscode": {
   "interpreter": {
    "hash": "29427a780687bcd44351db89d4b44b47405293225f90a7e6ae4fa5553ae29773"
   }
  }
 },
 "nbformat": 4,
 "nbformat_minor": 2
}
